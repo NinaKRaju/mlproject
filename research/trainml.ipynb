{
 "cells": [
  {
   "cell_type": "code",
   "execution_count": 2,
   "id": "491631d6-7401-43bc-8512-3a9924a82702",
   "metadata": {},
   "outputs": [],
   "source": [
    "import json # will be needed for saving preprocessing details\n",
    "import numpy as np # for data manipulation\n",
    "import pandas as pd # for data manipulation\n",
    "from sklearn.model_selection import train_test_split # will be used for data split\n",
    "from sklearn.preprocessing import LabelEncoder # for preprocessing\n",
    "from sklearn.ensemble import RandomForestClassifier # for training the algorithm\n",
    "from sklearn.ensemble import ExtraTreesClassifier # for training the algorithm\n",
    "import joblib # for saving algorithm and preprocessing objects"
   ]
  },
  {
   "cell_type": "code",
   "execution_count": 3,
   "id": "467a7471",
   "metadata": {},
   "outputs": [],
   "source": [
    "df = pd.read_csv(\"Rainfall.csv\")"
   ]
  },
  {
   "cell_type": "code",
   "execution_count": 8,
   "id": "a120f431-dd79-4cf7-9c3b-e40460f9f19f",
   "metadata": {},
   "outputs": [
    {
     "name": "stdout",
     "output_type": "stream",
     "text": [
      "     day  pressure   maxtemp  temparature  mintemp  dewpoint  humidity   \\\n",
      "0      1     1025.9     19.9         18.3     16.8      13.1         72   \n",
      "1      2     1022.0     21.7         18.9     17.2      15.6         81   \n",
      "2      3     1019.7     20.3         19.3     18.0      18.4         95   \n",
      "3      4     1018.9     22.3         20.6     19.1      18.8         90   \n",
      "4      5     1015.9     21.3         20.7     20.2      19.9         95   \n",
      "..   ...        ...      ...          ...      ...       ...        ...   \n",
      "361   27     1022.7     18.8         17.7     16.9      15.0         84   \n",
      "362   28     1026.6     18.6         17.3     16.3      12.8         75   \n",
      "363   29     1025.9     18.9         17.7     16.4      13.3         75   \n",
      "364   30     1025.3     19.2         17.3     15.2      13.3         78   \n",
      "365   31     1026.4     20.5         17.8     15.5      13.0         74   \n",
      "\n",
      "     cloud  rainfall  sunshine           winddirection  windspeed  \n",
      "0        49      yes       9.3                    80.0       26.3  \n",
      "1        83      yes       0.6                    50.0       15.3  \n",
      "2        91      yes       0.0                    40.0       14.2  \n",
      "3        88      yes       1.0                    50.0       16.9  \n",
      "4        81      yes       0.0                    40.0       13.7  \n",
      "..      ...      ...       ...                     ...        ...  \n",
      "361      90      yes       0.0                    30.0       18.4  \n",
      "362      85      yes       1.0                    20.0       25.9  \n",
      "363      78      yes       4.6                    70.0       33.4  \n",
      "364      86      yes       1.2                    20.0       20.9  \n",
      "365      66       no       5.7                    20.0       23.3  \n",
      "\n",
      "[366 rows x 12 columns]\n"
     ]
    }
   ],
   "source": [
    "print(df)"
   ]
  },
  {
   "cell_type": "code",
   "execution_count": 10,
   "id": "922946c6-80e3-4996-a2c0-36d80b112781",
   "metadata": {},
   "outputs": [
    {
     "data": {
      "text/plain": [
       "day                       0\n",
       "pressure                  0\n",
       "maxtemp                   0\n",
       "temparature               0\n",
       "mintemp                   0\n",
       "dewpoint                  0\n",
       "humidity                  0\n",
       "cloud                     0\n",
       "rainfall                  0\n",
       "sunshine                  0\n",
       "         winddirection    1\n",
       "windspeed                 1\n",
       "dtype: int64"
      ]
     },
     "execution_count": 10,
     "metadata": {},
     "output_type": "execute_result"
    }
   ],
   "source": [
    "df.isnull().sum() #shows the number of null values per column"
   ]
  },
  {
   "cell_type": "code",
   "execution_count": 11,
   "id": "72477688-bc57-45f6-892d-76a288ed7833",
   "metadata": {},
   "outputs": [
    {
     "data": {
      "text/plain": [
       "Index(['day', 'pressure ', 'maxtemp', 'temparature', 'mintemp', 'dewpoint',\n",
       "       'humidity ', 'cloud ', 'rainfall', 'sunshine', '         winddirection',\n",
       "       'windspeed'],\n",
       "      dtype='object')"
      ]
     },
     "execution_count": 11,
     "metadata": {},
     "output_type": "execute_result"
    }
   ],
   "source": [
    "df.columns"
   ]
  },
  {
   "cell_type": "code",
   "execution_count": 12,
   "id": "c5e7684d-d58c-4a25-8174-80c57242b9b3",
   "metadata": {},
   "outputs": [],
   "source": [
    "df.rename(str.strip, axis='columns', inplace=True) #removes extra spaces in columns"
   ]
  },
  {
   "cell_type": "code",
   "execution_count": 13,
   "id": "e50ee9ac-fb99-4a27-91f1-ee3e89f5a683",
   "metadata": {},
   "outputs": [
    {
     "data": {
      "text/plain": [
       "Index(['day', 'pressure', 'maxtemp', 'temparature', 'mintemp', 'dewpoint',\n",
       "       'humidity', 'cloud', 'rainfall', 'sunshine', 'winddirection',\n",
       "       'windspeed'],\n",
       "      dtype='object')"
      ]
     },
     "execution_count": 13,
     "metadata": {},
     "output_type": "execute_result"
    }
   ],
   "source": [
    "df.columns"
   ]
  },
  {
   "cell_type": "code",
   "execution_count": null,
   "id": "4a4cb25f-4fb8-4309-b4f8-b2194c724d31",
   "metadata": {},
   "outputs": [],
   "source": []
  }
 ],
 "metadata": {
  "kernelspec": {
   "display_name": "rainvenv",
   "language": "python",
   "name": "rainvenv"
  },
  "language_info": {
   "codemirror_mode": {
    "name": "ipython",
    "version": 3
   },
   "file_extension": ".py",
   "mimetype": "text/x-python",
   "name": "python",
   "nbconvert_exporter": "python",
   "pygments_lexer": "ipython3",
   "version": "3.13.0"
  }
 },
 "nbformat": 4,
 "nbformat_minor": 5
}
