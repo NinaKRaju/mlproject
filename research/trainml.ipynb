{
 "cells": [
  {
   "cell_type": "code",
   "execution_count": 27,
   "id": "491631d6-7401-43bc-8512-3a9924a82702",
   "metadata": {},
   "outputs": [],
   "source": [
    "import json # will be needed for saving preprocessing details\n",
    "import numpy as np # for data manipulation\n",
    "import pandas as pd # for data manipulation\n",
    "import seaborn as sb\n",
    "from sklearn.model_selection import train_test_split # will be used for data split\n",
    "from sklearn.preprocessing import LabelEncoder # for preprocessing\n",
    "from sklearn.preprocessing import StandardScaler\n",
    "from sklearn.ensemble import RandomForestClassifier # for training the algorithm\n",
    "from sklearn.ensemble import ExtraTreesClassifier # for training the algorithm\n",
    "from sklearn.svm import SVC\n",
    "from sklearn import metrics\n",
    "\n",
    "from sklearn.linear_model import LogisticRegression\n",
    "from imblearn.over_sampling import RandomOverSampler\n",
    "import joblib # for saving algorithm and preprocessing objects"
   ]
  },
  {
   "cell_type": "code",
   "execution_count": 28,
   "id": "467a7471",
   "metadata": {},
   "outputs": [],
   "source": [
    "df = pd.read_csv(\"Rainfall.csv\")"
   ]
  },
  {
   "cell_type": "code",
   "execution_count": 29,
   "id": "a120f431-dd79-4cf7-9c3b-e40460f9f19f",
   "metadata": {},
   "outputs": [
    {
     "name": "stdout",
     "output_type": "stream",
     "text": [
      "     day  pressure   maxtemp  temparature  mintemp  dewpoint  humidity   \\\n",
      "0      1     1025.9     19.9         18.3     16.8      13.1         72   \n",
      "1      2     1022.0     21.7         18.9     17.2      15.6         81   \n",
      "2      3     1019.7     20.3         19.3     18.0      18.4         95   \n",
      "3      4     1018.9     22.3         20.6     19.1      18.8         90   \n",
      "4      5     1015.9     21.3         20.7     20.2      19.9         95   \n",
      "..   ...        ...      ...          ...      ...       ...        ...   \n",
      "361   27     1022.7     18.8         17.7     16.9      15.0         84   \n",
      "362   28     1026.6     18.6         17.3     16.3      12.8         75   \n",
      "363   29     1025.9     18.9         17.7     16.4      13.3         75   \n",
      "364   30     1025.3     19.2         17.3     15.2      13.3         78   \n",
      "365   31     1026.4     20.5         17.8     15.5      13.0         74   \n",
      "\n",
      "     cloud  rainfall  sunshine           winddirection  windspeed  \n",
      "0        49      yes       9.3                    80.0       26.3  \n",
      "1        83      yes       0.6                    50.0       15.3  \n",
      "2        91      yes       0.0                    40.0       14.2  \n",
      "3        88      yes       1.0                    50.0       16.9  \n",
      "4        81      yes       0.0                    40.0       13.7  \n",
      "..      ...      ...       ...                     ...        ...  \n",
      "361      90      yes       0.0                    30.0       18.4  \n",
      "362      85      yes       1.0                    20.0       25.9  \n",
      "363      78      yes       4.6                    70.0       33.4  \n",
      "364      86      yes       1.2                    20.0       20.9  \n",
      "365      66       no       5.7                    20.0       23.3  \n",
      "\n",
      "[366 rows x 12 columns]\n"
     ]
    }
   ],
   "source": [
    "print(df)"
   ]
  },
  {
   "cell_type": "code",
   "execution_count": 30,
   "id": "922946c6-80e3-4996-a2c0-36d80b112781",
   "metadata": {},
   "outputs": [
    {
     "data": {
      "text/plain": [
       "day                       0\n",
       "pressure                  0\n",
       "maxtemp                   0\n",
       "temparature               0\n",
       "mintemp                   0\n",
       "dewpoint                  0\n",
       "humidity                  0\n",
       "cloud                     0\n",
       "rainfall                  0\n",
       "sunshine                  0\n",
       "         winddirection    1\n",
       "windspeed                 1\n",
       "dtype: int64"
      ]
     },
     "execution_count": 30,
     "metadata": {},
     "output_type": "execute_result"
    }
   ],
   "source": [
    "df.isnull().sum() #shows the number of null values per column"
   ]
  },
  {
   "cell_type": "code",
   "execution_count": 31,
   "id": "72477688-bc57-45f6-892d-76a288ed7833",
   "metadata": {},
   "outputs": [
    {
     "data": {
      "text/plain": [
       "Index(['day', 'pressure ', 'maxtemp', 'temparature', 'mintemp', 'dewpoint',\n",
       "       'humidity ', 'cloud ', 'rainfall', 'sunshine', '         winddirection',\n",
       "       'windspeed'],\n",
       "      dtype='object')"
      ]
     },
     "execution_count": 31,
     "metadata": {},
     "output_type": "execute_result"
    }
   ],
   "source": [
    "df.columns"
   ]
  },
  {
   "cell_type": "code",
   "execution_count": 32,
   "id": "c5e7684d-d58c-4a25-8174-80c57242b9b3",
   "metadata": {},
   "outputs": [],
   "source": [
    "df.rename(str.strip, axis='columns', inplace=True) #removes extra spaces in columns"
   ]
  },
  {
   "cell_type": "code",
   "execution_count": 33,
   "id": "e50ee9ac-fb99-4a27-91f1-ee3e89f5a683",
   "metadata": {},
   "outputs": [
    {
     "data": {
      "text/plain": [
       "Index(['day', 'pressure', 'maxtemp', 'temparature', 'mintemp', 'dewpoint',\n",
       "       'humidity', 'cloud', 'rainfall', 'sunshine', 'winddirection',\n",
       "       'windspeed'],\n",
       "      dtype='object')"
      ]
     },
     "execution_count": 33,
     "metadata": {},
     "output_type": "execute_result"
    }
   ],
   "source": [
    "df.columns"
   ]
  },
  {
   "cell_type": "code",
   "execution_count": 34,
   "id": "4a4cb25f-4fb8-4309-b4f8-b2194c724d31",
   "metadata": {},
   "outputs": [
    {
     "data": {
      "text/plain": [
       "np.int64(0)"
      ]
     },
     "execution_count": 34,
     "metadata": {},
     "output_type": "execute_result"
    }
   ],
   "source": [
    "for col in df.columns:\n",
    "  \n",
    "  # Checking if the column contains nulls\n",
    "  if df[col].isnull().sum() > 0:\n",
    "    # Sets null values equal to the mean of that column\n",
    "    val = df[col].mean()\n",
    "    df[col] = df[col].fillna(val)\n",
    "# Checks to see if there are any nulls left\n",
    "df.isnull().sum().sum()"
   ]
  },
  {
   "cell_type": "code",
   "execution_count": 35,
   "id": "7bb14aad-6295-4eff-be13-b50ca27b823e",
   "metadata": {},
   "outputs": [],
   "source": [
    "features = df.drop(['day', 'rainfall'], axis=1)\n",
    "target = df.rainfall"
   ]
  },
  {
   "cell_type": "code",
   "execution_count": 36,
   "id": "94b02341-eb57-47da-a191-940ab5d83581",
   "metadata": {},
   "outputs": [],
   "source": [
    "X_train, X_val, Y_train, Y_val = train_test_split(features,target,test_size=0.2, stratify=target,random_state=2)\n",
    "\n",
    "# balance it by adding repetitive rows of minority class.\n",
    "ros = RandomOverSampler(sampling_strategy='minority',\n",
    "                        random_state=22)\n",
    "X, Y = ros.fit_resample(X_train, Y_train)"
   ]
  },
  {
   "cell_type": "code",
   "execution_count": 37,
   "id": "fb769329-a064-4c81-b74e-db8b3d9b7142",
   "metadata": {},
   "outputs": [],
   "source": [
    "# normalizes the features\n",
    "scaler = StandardScaler()\n",
    "X = scaler.fit_transform(X)\n",
    "X_val = scaler.transform(X_val)"
   ]
  },
  {
   "cell_type": "code",
   "execution_count": 38,
   "id": "6468a210-0a6d-4b12-9640-7b75d936f665",
   "metadata": {},
   "outputs": [],
   "source": [
    "model = SVC(kernel='rbf', probability=True)"
   ]
  },
  {
   "cell_type": "code",
   "execution_count": 39,
   "id": "18a6b498-707e-429c-a766-55a52d96f4f0",
   "metadata": {},
   "outputs": [
    {
     "name": "stdout",
     "output_type": "stream",
     "text": [
      "SVC(probability=True) : \n",
      "Training Accuracy :  0.9028054847099821\n",
      "Validation Accuracy :  0.8958333333333333\n",
      "\n"
     ]
    }
   ],
   "source": [
    "model.fit(X, Y)\n",
    "\n",
    "print(f'{model} : ')\n",
    "\n",
    "train_preds = model.predict_proba(X) \n",
    "print('Training Accuracy : ', metrics.roc_auc_score(Y, train_preds[:,1]))\n",
    "\n",
    "val_preds = model.predict_proba(X_val) \n",
    "print('Validation Accuracy : ', metrics.roc_auc_score(Y_val, val_preds[:,1]))\n",
    "print()"
   ]
  },
  {
   "cell_type": "code",
   "execution_count": 42,
   "id": "2505397e-ab7b-41a7-bdfa-9f46494151fa",
   "metadata": {},
   "outputs": [
    {
     "data": {
      "text/plain": [
       "['./svc.joblib']"
      ]
     },
     "execution_count": 42,
     "metadata": {},
     "output_type": "execute_result"
    }
   ],
   "source": [
    "# save svc algorithm\n",
    "joblib.dump(model, \"./svc.joblib\", compress=True)"
   ]
  },
  {
   "cell_type": "code",
   "execution_count": null,
   "id": "84318e27-13fe-4c74-99ac-3cad171cade9",
   "metadata": {},
   "outputs": [],
   "source": []
  }
 ],
 "metadata": {
  "kernelspec": {
   "display_name": "rainvenv",
   "language": "python",
   "name": "rainvenv"
  },
  "language_info": {
   "codemirror_mode": {
    "name": "ipython",
    "version": 3
   },
   "file_extension": ".py",
   "mimetype": "text/x-python",
   "name": "python",
   "nbconvert_exporter": "python",
   "pygments_lexer": "ipython3",
   "version": "3.13.0"
  }
 },
 "nbformat": 4,
 "nbformat_minor": 5
}
