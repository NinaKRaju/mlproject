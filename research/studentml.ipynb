{
 "cells": [
  {
   "cell_type": "code",
   "execution_count": 1,
   "id": "d7c07fef-743e-4ef9-b415-a6717c2134a9",
   "metadata": {},
   "outputs": [],
   "source": [
    "import pandas as pd\n",
    "import numpy as np\n",
    "import sklearn\n",
    "from sklearn import linear_model\n",
    "from sklearn.utils import shuffle\n",
    "import matplotlib.pyplot as plt\n",
    "from matplotlib import style\n",
    "import pickle\n",
    "import joblib"
   ]
  },
  {
   "cell_type": "code",
   "execution_count": 2,
   "id": "764d79f8-ddfe-4a27-84d6-ba26663d0c91",
   "metadata": {
    "scrolled": true
   },
   "outputs": [
    {
     "data": {
      "text/html": [
       "<div>\n",
       "<style scoped>\n",
       "    .dataframe tbody tr th:only-of-type {\n",
       "        vertical-align: middle;\n",
       "    }\n",
       "\n",
       "    .dataframe tbody tr th {\n",
       "        vertical-align: top;\n",
       "    }\n",
       "\n",
       "    .dataframe thead th {\n",
       "        text-align: right;\n",
       "    }\n",
       "</style>\n",
       "<table border=\"1\" class=\"dataframe\">\n",
       "  <thead>\n",
       "    <tr style=\"text-align: right;\">\n",
       "      <th></th>\n",
       "      <th>school</th>\n",
       "      <th>sex</th>\n",
       "      <th>age</th>\n",
       "      <th>address</th>\n",
       "      <th>famsize</th>\n",
       "      <th>Pstatus</th>\n",
       "      <th>Medu</th>\n",
       "      <th>Fedu</th>\n",
       "      <th>Mjob</th>\n",
       "      <th>Fjob</th>\n",
       "      <th>...</th>\n",
       "      <th>famrel</th>\n",
       "      <th>freetime</th>\n",
       "      <th>goout</th>\n",
       "      <th>Dalc</th>\n",
       "      <th>Walc</th>\n",
       "      <th>health</th>\n",
       "      <th>absences</th>\n",
       "      <th>G1</th>\n",
       "      <th>G2</th>\n",
       "      <th>G3</th>\n",
       "    </tr>\n",
       "  </thead>\n",
       "  <tbody>\n",
       "    <tr>\n",
       "      <th>0</th>\n",
       "      <td>GP</td>\n",
       "      <td>F</td>\n",
       "      <td>18</td>\n",
       "      <td>U</td>\n",
       "      <td>GT3</td>\n",
       "      <td>A</td>\n",
       "      <td>4</td>\n",
       "      <td>4</td>\n",
       "      <td>at_home</td>\n",
       "      <td>teacher</td>\n",
       "      <td>...</td>\n",
       "      <td>4</td>\n",
       "      <td>3</td>\n",
       "      <td>4</td>\n",
       "      <td>1</td>\n",
       "      <td>1</td>\n",
       "      <td>3</td>\n",
       "      <td>6</td>\n",
       "      <td>5</td>\n",
       "      <td>6</td>\n",
       "      <td>6</td>\n",
       "    </tr>\n",
       "    <tr>\n",
       "      <th>1</th>\n",
       "      <td>GP</td>\n",
       "      <td>F</td>\n",
       "      <td>17</td>\n",
       "      <td>U</td>\n",
       "      <td>GT3</td>\n",
       "      <td>T</td>\n",
       "      <td>1</td>\n",
       "      <td>1</td>\n",
       "      <td>at_home</td>\n",
       "      <td>other</td>\n",
       "      <td>...</td>\n",
       "      <td>5</td>\n",
       "      <td>3</td>\n",
       "      <td>3</td>\n",
       "      <td>1</td>\n",
       "      <td>1</td>\n",
       "      <td>3</td>\n",
       "      <td>4</td>\n",
       "      <td>5</td>\n",
       "      <td>5</td>\n",
       "      <td>6</td>\n",
       "    </tr>\n",
       "    <tr>\n",
       "      <th>2</th>\n",
       "      <td>GP</td>\n",
       "      <td>F</td>\n",
       "      <td>15</td>\n",
       "      <td>U</td>\n",
       "      <td>LE3</td>\n",
       "      <td>T</td>\n",
       "      <td>1</td>\n",
       "      <td>1</td>\n",
       "      <td>at_home</td>\n",
       "      <td>other</td>\n",
       "      <td>...</td>\n",
       "      <td>4</td>\n",
       "      <td>3</td>\n",
       "      <td>2</td>\n",
       "      <td>2</td>\n",
       "      <td>3</td>\n",
       "      <td>3</td>\n",
       "      <td>10</td>\n",
       "      <td>7</td>\n",
       "      <td>8</td>\n",
       "      <td>10</td>\n",
       "    </tr>\n",
       "    <tr>\n",
       "      <th>3</th>\n",
       "      <td>GP</td>\n",
       "      <td>F</td>\n",
       "      <td>15</td>\n",
       "      <td>U</td>\n",
       "      <td>GT3</td>\n",
       "      <td>T</td>\n",
       "      <td>4</td>\n",
       "      <td>2</td>\n",
       "      <td>health</td>\n",
       "      <td>services</td>\n",
       "      <td>...</td>\n",
       "      <td>3</td>\n",
       "      <td>2</td>\n",
       "      <td>2</td>\n",
       "      <td>1</td>\n",
       "      <td>1</td>\n",
       "      <td>5</td>\n",
       "      <td>2</td>\n",
       "      <td>15</td>\n",
       "      <td>14</td>\n",
       "      <td>15</td>\n",
       "    </tr>\n",
       "    <tr>\n",
       "      <th>4</th>\n",
       "      <td>GP</td>\n",
       "      <td>F</td>\n",
       "      <td>16</td>\n",
       "      <td>U</td>\n",
       "      <td>GT3</td>\n",
       "      <td>T</td>\n",
       "      <td>3</td>\n",
       "      <td>3</td>\n",
       "      <td>other</td>\n",
       "      <td>other</td>\n",
       "      <td>...</td>\n",
       "      <td>4</td>\n",
       "      <td>3</td>\n",
       "      <td>2</td>\n",
       "      <td>1</td>\n",
       "      <td>2</td>\n",
       "      <td>5</td>\n",
       "      <td>4</td>\n",
       "      <td>6</td>\n",
       "      <td>10</td>\n",
       "      <td>10</td>\n",
       "    </tr>\n",
       "  </tbody>\n",
       "</table>\n",
       "<p>5 rows × 33 columns</p>\n",
       "</div>"
      ],
      "text/plain": [
       "  school sex  age address famsize Pstatus  Medu  Fedu     Mjob      Fjob  ...  \\\n",
       "0     GP   F   18       U     GT3       A     4     4  at_home   teacher  ...   \n",
       "1     GP   F   17       U     GT3       T     1     1  at_home     other  ...   \n",
       "2     GP   F   15       U     LE3       T     1     1  at_home     other  ...   \n",
       "3     GP   F   15       U     GT3       T     4     2   health  services  ...   \n",
       "4     GP   F   16       U     GT3       T     3     3    other     other  ...   \n",
       "\n",
       "  famrel freetime  goout  Dalc  Walc health absences  G1  G2  G3  \n",
       "0      4        3      4     1     1      3        6   5   6   6  \n",
       "1      5        3      3     1     1      3        4   5   5   6  \n",
       "2      4        3      2     2     3      3       10   7   8  10  \n",
       "3      3        2      2     1     1      5        2  15  14  15  \n",
       "4      4        3      2     1     2      5        4   6  10  10  \n",
       "\n",
       "[5 rows x 33 columns]"
      ]
     },
     "execution_count": 2,
     "metadata": {},
     "output_type": "execute_result"
    }
   ],
   "source": [
    "data = pd.read_csv(\"student-mat.csv\") \n",
    "data.head()"
   ]
  },
  {
   "cell_type": "code",
   "execution_count": 3,
   "id": "057711f0-47bc-4004-b7d3-410a383de0d9",
   "metadata": {},
   "outputs": [
    {
     "name": "stdout",
     "output_type": "stream",
     "text": [
      "Index(['school', 'sex', 'age', 'address', 'famsize', 'Pstatus', 'Medu', 'Fedu',\n",
      "       'Mjob', 'Fjob', 'reason', 'guardian', 'traveltime', 'studytime',\n",
      "       'failures', 'schoolsup', 'famsup', 'paid', 'activities', 'nursery',\n",
      "       'higher', 'internet', 'romantic', 'famrel', 'freetime', 'goout', 'Dalc',\n",
      "       'Walc', 'health', 'absences', 'G1', 'G2', 'G3'],\n",
      "      dtype='object')\n"
     ]
    }
   ],
   "source": [
    "print(data.columns)"
   ]
  },
  {
   "cell_type": "code",
   "execution_count": 4,
   "id": "ee4d6b25-1102-427e-87b5-2a675b8daabf",
   "metadata": {},
   "outputs": [],
   "source": [
    "data = data[[\"G1\", \"G2\", \"G3\", \"famrel\", \"traveltime\", \"studytime\", \"freetime\", \"absences\", \"age\", \"Medu\", \"Fedu\", \"failures\", \"goout\", \"Dalc\", \"Walc\"]]"
   ]
  },
  {
   "cell_type": "code",
   "execution_count": 5,
   "id": "0b8dcf1d-15c1-417d-b06f-48f902a2cacc",
   "metadata": {},
   "outputs": [],
   "source": [
    "predict = \"G3\"\n",
    "X = np.array(data.drop([predict], axis = 'columns')) \n",
    "y = np.array(data[predict])\n",
    "X_train, X_test, y_train, y_test = sklearn.model_selection.train_test_split(X, y, test_size = 0.1)"
   ]
  },
  {
   "cell_type": "code",
   "execution_count": 6,
   "id": "388723f7-8755-42bc-abd2-174657bee966",
   "metadata": {},
   "outputs": [
    {
     "name": "stdout",
     "output_type": "stream",
     "text": [
      "0.7683498265824905\n"
     ]
    }
   ],
   "source": [
    "linear = linear_model.LinearRegression()\n",
    "linear = linear.fit(X_train, y_train) \n",
    "acc = linear.score(X_test, y_test) \n",
    "print(acc)"
   ]
  },
  {
   "cell_type": "code",
   "execution_count": 7,
   "id": "0b26ab32-9bfc-4f8d-a2fe-f09a269e15a1",
   "metadata": {},
   "outputs": [
    {
     "data": {
      "text/plain": [
       "['./linear_reg.joblib']"
      ]
     },
     "execution_count": 7,
     "metadata": {},
     "output_type": "execute_result"
    }
   ],
   "source": [
    "joblib.dump(linear, \"./linear_reg.joblib\", compress=True)"
   ]
  },
  {
   "cell_type": "code",
   "execution_count": 8,
   "id": "fb8cee1a-0a52-4ea3-bba0-db523cecfbaa",
   "metadata": {},
   "outputs": [
    {
     "name": "stdout",
     "output_type": "stream",
     "text": [
      "5.649735289767959 [ 8  7  4  1  2  3  0 16  1  3  3  5  1  1] 0\n",
      "9.71891061898687 [11 10  5  2  1  2  0 18  2  3  0  3  1  2] 10\n",
      "12.767128243093863 [13 13  4  2  2  2  2 16  2  4  0  2  1  2] 13\n",
      "14.26349159393059 [12 14  5  1  1  4  0 16  3  2  0  3  1  1] 15\n",
      "9.148282268527241 [ 8  9  4  4  1  5  0 15  2  1  3  5  2  5] 10\n",
      "13.433674706761105 [12 14  4  1  3  4  7 17  2  4  0  3  1  1] 14\n",
      "4.888055944817673 [ 6  5  5  1  1  5 16 17  3  2  3  5  2  4] 5\n",
      "16.252114375665478 [16 15  5  3  2  4  2 16  4  3  0  3  1  2] 15\n",
      "14.133609506156171 [11 14  5  1  1  3  6 16  4  4  0  4  1  2] 14\n",
      "12.02872081072048 [12 12  2  2  2  5 14 17  4  3  0  5  1  4] 12\n",
      "16.79153589409603 [17 16  4  1  2  5  0 15  4  3  0  2  1  1] 16\n",
      "5.8142642172146335 [ 7  6  4  1  2  4 10 15  3  2  0  4  1  1] 6\n",
      "10.743646321064384 [11 12  1  1  2  3 10 16  4  3  0  2  1  1] 13\n",
      "12.355413367906499 [14 12  4  1  1  4  4 17  3  3  0  3  1  3] 11\n",
      "10.546778782650533 [11 10  4  4  1  4  8 17  2  2  0  5  5  5] 10\n",
      "10.240418817909621 [11 10  5  2  2  3  0 16  4  2  0  3  1  1] 10\n",
      "9.623857342451489 [10 10  5  1  2  2  4 17  4  3  0  3  1  1] 11\n",
      "8.16904306967005 [10  9  4  2  4  4  0 18  2  2  0  4  1  1] 0\n",
      "14.073538065752762 [15 14  4  1  4  5  4 18  2  3  0  5  1  3] 14\n",
      "12.86158123948636 [11 13  4  1  2  3  2 15  4  2  0  3  1  1] 13\n",
      "15.266505785776808 [16 14  5  1  4  5  6 15  2  2  0  4  1  2] 15\n",
      "16.186960836928456 [15 15  5  2  2  3  4 15  2  2  0  3  1  3] 15\n",
      "11.815847794321284 [14 11  3  1  1  4 18 16  4  4  0  4  1  4] 13\n",
      "11.862548867032329 [12 12  4  1  2  4  0 16  2  2  0  4  1  1] 11\n",
      "11.76740029017867 [10 13  3  1  2  1  6 16  2  2  1  2  1  1] 13\n",
      "8.39001832008165 [ 7 10  3  2  4  1  2 15  1  1  1  2  1  1] 10\n",
      "12.156815744016757 [12 12  4  2  2  4  6 17  2  2  0  4  2  3] 12\n",
      "4.568395341435789 [ 5  6  4  2  2  3  6 18  4  4  0  4  1  1] 6\n",
      "10.417185655239605 [10 10  4  1  2  5 17 17  3  1  0  4  2  3] 10\n",
      "15.55246234842411 [16 15  5  1  3  3  9 18  4  3  0  2  1  2] 16\n",
      "5.739909226093431 [ 8  6  4  1  2  1 18 16  4  4  0  3  3  5] 7\n",
      "6.469968263713504 [ 8  7  4  1  2  3  4 16  2  2  0  4  1  2] 6\n",
      "4.550812411964337 [ 7  6  3  2  1  3  0 17  2  1  2  2  2  2] 0\n",
      "13.059481563284745 [13 12  4  1  1  5 20 16  2  1  0  2  1  1] 12\n",
      "13.551805773871438 [14 13  4  1  1  3  8 15  2  2  0  1  1  1] 13\n",
      "9.457120986688407 [11  9  4  1  1  4 19 17  3  2  1  4  3  4] 10\n",
      "7.338313498119932 [ 7  8  5  1  4  1  8 15  2  2  0  2  1  1] 8\n",
      "7.792746332988509 [ 8  9  3  1  2  1  4 17  1  2  0  3  1  5] 10\n",
      "9.769818116130041 [ 8 10  5  3  2  3  4 16  3  3  0  2  1  1] 10\n",
      "8.373266916695451 [ 9  9  4  1  2  5  0 16  4  4  0  2  1  2] 10\n"
     ]
    }
   ],
   "source": [
    "predictions = linear.predict(X_test)\n",
    "for x in range(len(predictions)): \n",
    "    print(predictions[x], X_test[x], y_test[x])"
   ]
  },
  {
   "cell_type": "code",
   "execution_count": null,
   "id": "8d6302e9-f851-4bbe-836a-118870c5b724",
   "metadata": {},
   "outputs": [],
   "source": []
  }
 ],
 "metadata": {
  "kernelspec": {
   "display_name": "rainvenv",
   "language": "python",
   "name": "rainvenv"
  },
  "language_info": {
   "codemirror_mode": {
    "name": "ipython",
    "version": 3
   },
   "file_extension": ".py",
   "mimetype": "text/x-python",
   "name": "python",
   "nbconvert_exporter": "python",
   "pygments_lexer": "ipython3",
   "version": "3.13.0"
  }
 },
 "nbformat": 4,
 "nbformat_minor": 5
}
